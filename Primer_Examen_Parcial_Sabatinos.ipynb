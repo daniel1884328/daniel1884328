{
  "nbformat": 4,
  "nbformat_minor": 0,
  "metadata": {
    "colab": {
      "name": "codigo_daniel.ipynb",
      "provenance": [],
      "collapsed_sections": [],
      "authorship_tag": "ABX9TyMN0diFC/Q/Sy2xM9vhVQv6",
      "include_colab_link": true
    },
    "kernelspec": {
      "name": "python3",
      "display_name": "Python 3"
    },
    "language_info": {
      "name": "python"
    }
  },
  "cells": [
    {
      "cell_type": "markdown",
      "metadata": {
        "id": "view-in-github",
        "colab_type": "text"
      },
      "source": [
        "<a href=\"https://colab.research.google.com/github/daniel1884328/daniel1884328/blob/main/Primer_Examen_Parcial_Sabatinos.ipynb\" target=\"_parent\"><img src=\"https://colab.research.google.com/assets/colab-badge.svg\" alt=\"Open In Colab\"/></a>"
      ]
    },
    {
      "cell_type": "code",
      "execution_count": 5,
      "metadata": {
        "colab": {
          "base_uri": "https://localhost:8080/"
        },
        "id": "6uJfWGi8dD3C",
        "outputId": "82780d3c-76b1-480f-af6e-594c8cc7cb70"
      },
      "outputs": [
        {
          "output_type": "stream",
          "name": "stdout",
          "text": [
            "Ingrese un numero: 15\n",
            "resultado de la sumatoria:  120\n"
          ]
        }
      ],
      "source": [
        "numero_inicial = int(input(\"Ingrese un numero: \"))\n",
        "sumatoria = 0\n",
        "for numero in range(numero_inicial):\n",
        "    sumatoria = sumatoria + (numero + 1)\n",
        "\n",
        "\n",
        "print(\"resultado de la sumatoria: \",sumatoria)"
      ]
    }
  ]
}